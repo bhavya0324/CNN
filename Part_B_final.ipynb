{
  "metadata": {
    "kernelspec": {
      "language": "python",
      "display_name": "Python 3",
      "name": "python3"
    },
    "language_info": {
      "name": "python",
      "version": "3.7.12",
      "mimetype": "text/x-python",
      "codemirror_mode": {
        "name": "ipython",
        "version": 3
      },
      "pygments_lexer": "ipython3",
      "nbconvert_exporter": "python",
      "file_extension": ".py"
    },
    "colab": {
      "name": "final-part-b.ipynb",
      "provenance": [],
      "collapsed_sections": [],
      "include_colab_link": true
    }
  },
  "nbformat_minor": 0,
  "nbformat": 4,
  "cells": [
    {
      "cell_type": "markdown",
      "metadata": {
        "id": "view-in-github",
        "colab_type": "text"
      },
      "source": [
        "<a href=\"https://colab.research.google.com/github/hemanths03/CS6910_Assignment_2/blob/main/Part_B_final.ipynb\" target=\"_parent\"><img src=\"https://colab.research.google.com/assets/colab-badge.svg\" alt=\"Open In Colab\"/></a>"
      ]
    },
    {
      "cell_type": "markdown",
      "source": [
        "#Installing_WandB"
      ],
      "metadata": {
        "id": "phnewOcQXtP1"
      }
    },
    {
      "cell_type": "code",
      "source": [
        "!pip install wandb\n",
        "import wandb\n",
        "wandb.login()"
      ],
      "metadata": {
        "id": "PP4ZujI_0n2G",
        "outputId": "43351381-79da-44ae-ece1-8f8621eaae98",
        "execution": {
          "iopub.status.busy": "2022-03-31T07:03:45.492954Z",
          "iopub.execute_input": "2022-03-31T07:03:45.493611Z",
          "iopub.status.idle": "2022-03-31T07:04:05.604686Z",
          "shell.execute_reply.started": "2022-03-31T07:03:45.493575Z",
          "shell.execute_reply": "2022-03-31T07:04:05.603919Z"
        },
        "trusted": true,
        "colab": {
          "base_uri": "https://localhost:8080/",
          "height": 894
        }
      },
      "execution_count": 1,
      "outputs": [
        {
          "output_type": "stream",
          "name": "stdout",
          "text": [
            "Collecting wandb\n",
            "  Downloading wandb-0.12.11-py2.py3-none-any.whl (1.7 MB)\n",
            "\u001b[K     |████████████████████████████████| 1.7 MB 5.0 MB/s \n",
            "\u001b[?25hCollecting sentry-sdk>=1.0.0\n",
            "  Downloading sentry_sdk-1.5.8-py2.py3-none-any.whl (144 kB)\n",
            "\u001b[K     |████████████████████████████████| 144 kB 45.7 MB/s \n",
            "\u001b[?25hRequirement already satisfied: six>=1.13.0 in /usr/local/lib/python3.7/dist-packages (from wandb) (1.15.0)\n",
            "Collecting setproctitle\n",
            "  Downloading setproctitle-1.2.2-cp37-cp37m-manylinux1_x86_64.whl (36 kB)\n",
            "Collecting GitPython>=1.0.0\n",
            "  Downloading GitPython-3.1.27-py3-none-any.whl (181 kB)\n",
            "\u001b[K     |████████████████████████████████| 181 kB 55.2 MB/s \n",
            "\u001b[?25hRequirement already satisfied: python-dateutil>=2.6.1 in /usr/local/lib/python3.7/dist-packages (from wandb) (2.8.2)\n",
            "Collecting pathtools\n",
            "  Downloading pathtools-0.1.2.tar.gz (11 kB)\n",
            "Requirement already satisfied: promise<3,>=2.0 in /usr/local/lib/python3.7/dist-packages (from wandb) (2.3)\n",
            "Requirement already satisfied: Click!=8.0.0,>=7.0 in /usr/local/lib/python3.7/dist-packages (from wandb) (7.1.2)\n",
            "Collecting yaspin>=1.0.0\n",
            "  Downloading yaspin-2.1.0-py3-none-any.whl (18 kB)\n",
            "Requirement already satisfied: protobuf>=3.12.0 in /usr/local/lib/python3.7/dist-packages (from wandb) (3.17.3)\n",
            "Collecting shortuuid>=0.5.0\n",
            "  Downloading shortuuid-1.0.8-py3-none-any.whl (9.5 kB)\n",
            "Requirement already satisfied: requests<3,>=2.0.0 in /usr/local/lib/python3.7/dist-packages (from wandb) (2.23.0)\n",
            "Requirement already satisfied: PyYAML in /usr/local/lib/python3.7/dist-packages (from wandb) (3.13)\n",
            "Requirement already satisfied: psutil>=5.0.0 in /usr/local/lib/python3.7/dist-packages (from wandb) (5.4.8)\n",
            "Collecting docker-pycreds>=0.4.0\n",
            "  Downloading docker_pycreds-0.4.0-py2.py3-none-any.whl (9.0 kB)\n",
            "Collecting gitdb<5,>=4.0.1\n",
            "  Downloading gitdb-4.0.9-py3-none-any.whl (63 kB)\n",
            "\u001b[K     |████████████████████████████████| 63 kB 1.4 MB/s \n",
            "\u001b[?25hRequirement already satisfied: typing-extensions>=3.7.4.3 in /usr/local/lib/python3.7/dist-packages (from GitPython>=1.0.0->wandb) (3.10.0.2)\n",
            "Collecting smmap<6,>=3.0.1\n",
            "  Downloading smmap-5.0.0-py3-none-any.whl (24 kB)\n",
            "Requirement already satisfied: idna<3,>=2.5 in /usr/local/lib/python3.7/dist-packages (from requests<3,>=2.0.0->wandb) (2.10)\n",
            "Requirement already satisfied: certifi>=2017.4.17 in /usr/local/lib/python3.7/dist-packages (from requests<3,>=2.0.0->wandb) (2021.10.8)\n",
            "Requirement already satisfied: chardet<4,>=3.0.2 in /usr/local/lib/python3.7/dist-packages (from requests<3,>=2.0.0->wandb) (3.0.4)\n",
            "Requirement already satisfied: urllib3!=1.25.0,!=1.25.1,<1.26,>=1.21.1 in /usr/local/lib/python3.7/dist-packages (from requests<3,>=2.0.0->wandb) (1.24.3)\n",
            "Requirement already satisfied: termcolor<2.0.0,>=1.1.0 in /usr/local/lib/python3.7/dist-packages (from yaspin>=1.0.0->wandb) (1.1.0)\n",
            "Building wheels for collected packages: pathtools\n",
            "  Building wheel for pathtools (setup.py) ... \u001b[?25l\u001b[?25hdone\n",
            "  Created wheel for pathtools: filename=pathtools-0.1.2-py3-none-any.whl size=8806 sha256=214fc138cecaa7316953dd46932d46c84a9b02f87bb6cdd52aa7e61430bb46e6\n",
            "  Stored in directory: /root/.cache/pip/wheels/3e/31/09/fa59cef12cdcfecc627b3d24273699f390e71828921b2cbba2\n",
            "Successfully built pathtools\n",
            "Installing collected packages: smmap, gitdb, yaspin, shortuuid, setproctitle, sentry-sdk, pathtools, GitPython, docker-pycreds, wandb\n",
            "Successfully installed GitPython-3.1.27 docker-pycreds-0.4.0 gitdb-4.0.9 pathtools-0.1.2 sentry-sdk-1.5.8 setproctitle-1.2.2 shortuuid-1.0.8 smmap-5.0.0 wandb-0.12.11 yaspin-2.1.0\n"
          ]
        },
        {
          "output_type": "display_data",
          "data": {
            "text/plain": [
              "<IPython.core.display.Javascript object>"
            ],
            "application/javascript": [
              "\n",
              "        window._wandbApiKey = new Promise((resolve, reject) => {\n",
              "            function loadScript(url) {\n",
              "            return new Promise(function(resolve, reject) {\n",
              "                let newScript = document.createElement(\"script\");\n",
              "                newScript.onerror = reject;\n",
              "                newScript.onload = resolve;\n",
              "                document.body.appendChild(newScript);\n",
              "                newScript.src = url;\n",
              "            });\n",
              "            }\n",
              "            loadScript(\"https://cdn.jsdelivr.net/npm/postmate/build/postmate.min.js\").then(() => {\n",
              "            const iframe = document.createElement('iframe')\n",
              "            iframe.style.cssText = \"width:0;height:0;border:none\"\n",
              "            document.body.appendChild(iframe)\n",
              "            const handshake = new Postmate({\n",
              "                container: iframe,\n",
              "                url: 'https://wandb.ai/authorize'\n",
              "            });\n",
              "            const timeout = setTimeout(() => reject(\"Couldn't auto authenticate\"), 5000)\n",
              "            handshake.then(function(child) {\n",
              "                child.on('authorize', data => {\n",
              "                    clearTimeout(timeout)\n",
              "                    resolve(data)\n",
              "                });\n",
              "            });\n",
              "            })\n",
              "        });\n",
              "    "
            ]
          },
          "metadata": {}
        },
        {
          "output_type": "stream",
          "name": "stderr",
          "text": [
            "\u001b[34m\u001b[1mwandb\u001b[0m: Appending key for api.wandb.ai to your netrc file: /root/.netrc\n"
          ]
        },
        {
          "output_type": "execute_result",
          "data": {
            "text/plain": [
              "True"
            ]
          },
          "metadata": {},
          "execution_count": 1
        }
      ]
    },
    {
      "cell_type": "markdown",
      "source": [
        "#Importing the Required Libraries"
      ],
      "metadata": {
        "id": "KAjftKWlYBQ-"
      }
    },
    {
      "cell_type": "code",
      "source": [
        "#Importing some Required Libraries\n",
        "import wandb\n",
        "import numpy as np\n",
        "from wandb.keras import WandbCallback\n",
        "from tensorflow import keras\n",
        "import random\n",
        "from math import ceil\n",
        "\n",
        "#Importing the Models\n",
        "from tensorflow.keras.applications import InceptionV3\n",
        "from tensorflow.keras.applications import InceptionResNetV2\n",
        "from tensorflow.keras.applications import ResNet50\n",
        "from tensorflow.keras.applications import Xception\n",
        "\n",
        "#For Data generation\n",
        "from keras.preprocessing.image import ImageDataGenerator\n",
        "\n",
        "#Import the required models\n",
        "from tensorflow.keras.models import Sequential, Model\n",
        "\n",
        "#Import the required layers\n",
        "from tensorflow.keras.layers import Conv2D, MaxPooling2D, Activation, Dense, Flatten, Dropout, BatchNormalization\n",
        "\n",
        "#Import some other Libraries\n",
        "from tensorflow.keras.utils import to_categorical\n",
        "from tensorflow.keras.preprocessing.image import ImageDataGenerator\n",
        "from tensorflow.keras.optimizers import Adam"
      ],
      "metadata": {
        "id": "66JdJSyZ0qE3",
        "execution": {
          "iopub.status.busy": "2022-03-31T07:04:14.272118Z",
          "iopub.execute_input": "2022-03-31T07:04:14.272729Z",
          "iopub.status.idle": "2022-03-31T07:04:19.358459Z",
          "shell.execute_reply.started": "2022-03-31T07:04:14.272684Z",
          "shell.execute_reply": "2022-03-31T07:04:19.357724Z"
        },
        "trusted": true
      },
      "execution_count": 2,
      "outputs": []
    },
    {
      "cell_type": "markdown",
      "source": [
        "#WandB Login\n",
        "\n"
      ],
      "metadata": {
        "id": "2c1I6tU81VE9"
      }
    },
    {
      "cell_type": "code",
      "source": [
        "!wandb login"
      ],
      "metadata": {
        "id": "bU-z-5AF02rQ"
      },
      "execution_count": null,
      "outputs": []
    },
    {
      "cell_type": "markdown",
      "source": [
        "#Get the Dataset"
      ],
      "metadata": {
        "id": "jQNLw-5G1lT-"
      }
    },
    {
      "cell_type": "code",
      "source": [
        "!wget https://storage.googleapis.com/wandb_datasets/nature_12K.zip"
      ],
      "metadata": {
        "id": "z0t8R-471V0D",
        "execution": {
          "iopub.status.busy": "2022-03-31T07:04:26.976783Z",
          "iopub.execute_input": "2022-03-31T07:04:26.977042Z",
          "iopub.status.idle": "2022-03-31T07:04:46.385982Z",
          "shell.execute_reply.started": "2022-03-31T07:04:26.977013Z",
          "shell.execute_reply": "2022-03-31T07:04:46.384806Z"
        },
        "trusted": true
      },
      "execution_count": null,
      "outputs": []
    },
    {
      "cell_type": "markdown",
      "source": [
        "#unzip the Dataset"
      ],
      "metadata": {
        "id": "YB26e2b71oUw"
      }
    },
    {
      "cell_type": "code",
      "source": [
        "!unzip 'nature_12K.zip'"
      ],
      "metadata": {
        "id": "fcdK62IMZ4LY",
        "execution": {
          "iopub.status.busy": "2022-03-31T07:04:46.395378Z",
          "iopub.execute_input": "2022-03-31T07:04:46.397288Z",
          "iopub.status.idle": "2022-03-31T07:05:18.617146Z",
          "shell.execute_reply.started": "2022-03-31T07:04:46.397227Z",
          "shell.execute_reply": "2022-03-31T07:05:18.616273Z"
        },
        "trusted": true
      },
      "execution_count": null,
      "outputs": []
    },
    {
      "cell_type": "code",
      "source": [
        "import tensorflow as tf"
      ],
      "metadata": {
        "execution": {
          "iopub.status.busy": "2022-03-31T07:05:18.619242Z",
          "iopub.execute_input": "2022-03-31T07:05:18.619566Z",
          "iopub.status.idle": "2022-03-31T07:05:18.623679Z",
          "shell.execute_reply.started": "2022-03-31T07:05:18.619527Z",
          "shell.execute_reply": "2022-03-31T07:05:18.622966Z"
        },
        "trusted": true,
        "id": "4NUFvxhqOp3I"
      },
      "execution_count": null,
      "outputs": []
    },
    {
      "cell_type": "markdown",
      "source": [
        "#Load train and test paths"
      ],
      "metadata": {
        "id": "GrwUUAII1sfD"
      }
    },
    {
      "cell_type": "code",
      "source": [
        "train = 'inaturalist_12K/train'\n",
        "test = 'inaturalist_12K/val'"
      ],
      "metadata": {
        "id": "Qn91egCb1eJ4",
        "execution": {
          "iopub.status.busy": "2022-03-31T07:05:18.625958Z",
          "iopub.execute_input": "2022-03-31T07:05:18.626485Z",
          "iopub.status.idle": "2022-03-31T07:05:18.641507Z",
          "shell.execute_reply.started": "2022-03-31T07:05:18.626445Z",
          "shell.execute_reply": "2022-03-31T07:05:18.640532Z"
        },
        "trusted": true
      },
      "execution_count": null,
      "outputs": []
    },
    {
      "cell_type": "markdown",
      "source": [
        "#Setting Up the paramters of input image"
      ],
      "metadata": {
        "id": "mC4EJVwTH8f5"
      }
    },
    {
      "cell_type": "code",
      "source": [
        "#Height Width and Depth of input image\n",
        "(H , W , D ) = (224 , 224 , 3)\n",
        "\n",
        "#number of labels in the dataset\n",
        "n_labels = 10\n",
        "\n",
        "#batch size\n",
        "batch_size = 128"
      ],
      "metadata": {
        "id": "Ezz65HZbH_ng",
        "execution": {
          "iopub.status.busy": "2022-03-31T07:05:18.642831Z",
          "iopub.execute_input": "2022-03-31T07:05:18.643705Z",
          "iopub.status.idle": "2022-03-31T07:05:18.650412Z",
          "shell.execute_reply.started": "2022-03-31T07:05:18.643666Z",
          "shell.execute_reply": "2022-03-31T07:05:18.649522Z"
        },
        "trusted": true
      },
      "execution_count": null,
      "outputs": []
    },
    {
      "cell_type": "markdown",
      "source": [
        "#Data Generation"
      ],
      "metadata": {
        "id": "sH-j3nw3HwsN"
      }
    },
    {
      "cell_type": "code",
      "source": [
        "#Data generator\n",
        "data_gen = ImageDataGenerator(rescale=1./255,validation_split = 0.1)"
      ],
      "metadata": {
        "id": "fSC_4qh5FIsa",
        "execution": {
          "iopub.status.busy": "2022-03-31T07:05:18.651748Z",
          "iopub.execute_input": "2022-03-31T07:05:18.652650Z",
          "iopub.status.idle": "2022-03-31T07:05:18.659105Z",
          "shell.execute_reply.started": "2022-03-31T07:05:18.652609Z",
          "shell.execute_reply": "2022-03-31T07:05:18.658360Z"
        },
        "trusted": true
      },
      "execution_count": null,
      "outputs": []
    },
    {
      "cell_type": "code",
      "source": [
        "#Generating the train_set (training data)\n",
        "train_data = data_gen.flow_from_directory(\n",
        "                                          directory = train,\n",
        "                                          color_mode = 'rgb',       \n",
        "                                          shuffle = True,\n",
        "                                          seed = 10,\n",
        "                                          target_size = (H , W),\n",
        "                                          batch_size = batch_size,\n",
        "                                          subset = 'training'\n",
        "                                          )"
      ],
      "metadata": {
        "id": "cleks4ckH0Xl",
        "execution": {
          "iopub.status.busy": "2022-03-31T07:05:18.660347Z",
          "iopub.execute_input": "2022-03-31T07:05:18.661170Z",
          "iopub.status.idle": "2022-03-31T07:05:19.204389Z",
          "shell.execute_reply.started": "2022-03-31T07:05:18.661134Z",
          "shell.execute_reply": "2022-03-31T07:05:19.203561Z"
        },
        "trusted": true
      },
      "execution_count": null,
      "outputs": []
    },
    {
      "cell_type": "code",
      "source": [
        "#Generating the val_set (validation data)\n",
        "val_data = data_gen.flow_from_directory(\n",
        "                                        directory = train,\n",
        "                                        color_mode = 'rgb',\n",
        "                                        shuffle = True,\n",
        "                                        seed = 10,\n",
        "                                        target_size = (H , W), \n",
        "                                        batch_size = batch_size,\n",
        "                                        subset = 'validation'\n",
        "                                        )"
      ],
      "metadata": {
        "id": "gSfygbbRI3Dj",
        "execution": {
          "iopub.status.busy": "2022-03-31T07:05:19.208758Z",
          "iopub.execute_input": "2022-03-31T07:05:19.211565Z",
          "iopub.status.idle": "2022-03-31T07:05:19.330005Z",
          "shell.execute_reply.started": "2022-03-31T07:05:19.211521Z",
          "shell.execute_reply": "2022-03-31T07:05:19.329275Z"
        },
        "trusted": true
      },
      "execution_count": null,
      "outputs": []
    },
    {
      "cell_type": "code",
      "source": [
        "#Generating the test_set (testing data)\n",
        "test_data = data_gen.flow_from_directory(\n",
        "                                        directory = test,\n",
        "                                        color_mode = 'rgb',\n",
        "                                        shuffle = False,\n",
        "                                        seed = 10,\n",
        "                                        target_size = (H , W), \n",
        "                                        batch_size = batch_size\n",
        "                                        )"
      ],
      "metadata": {
        "id": "zc0fhDRiITkD",
        "execution": {
          "iopub.status.busy": "2022-03-31T07:05:19.331323Z",
          "iopub.execute_input": "2022-03-31T07:05:19.331728Z",
          "iopub.status.idle": "2022-03-31T07:05:19.453302Z",
          "shell.execute_reply.started": "2022-03-31T07:05:19.331690Z",
          "shell.execute_reply": "2022-03-31T07:05:19.452524Z"
        },
        "trusted": true
      },
      "execution_count": null,
      "outputs": []
    },
    {
      "cell_type": "markdown",
      "source": [
        "#Sweep Configuration"
      ],
      "metadata": {
        "id": "NTKDKcVx1587"
      }
    },
    {
      "cell_type": "code",
      "source": [
        "sweep_config_temp = {\n",
        "  \"name\": \"sweep_1\",\n",
        "  \"method\": \"grid\",\n",
        "  \"early_terminate\" : {\n",
        "      \"type\": \"hyperband\",\n",
        "      \"min_iter\": 3\n",
        "  },\n",
        "  \"metric\": {\n",
        "      \"name\": \"accuracy\",\n",
        "      \"goal\": \"maximize\"\n",
        "  },\n",
        "  \"parameters\": {\n",
        "        \"model\": {\n",
        "            \"values\": [\"inception_v3\", \"inception_resnet_v2\", \"resnet_50\", \"xception\"]\n",
        "        },\n",
        "        \"set_conv_layers\" : {\n",
        "            \"values\" : [\"all\" , \"none\" , 1 , 2]\n",
        "        },\n",
        "      \"num_neurons\" : {\n",
        "          \"values\" : [1024] , 512]\n",
        "      }\n",
        "    }\n",
        "}"
      ],
      "metadata": {
        "id": "0BiWc_WQf3Cp",
        "execution": {
          "iopub.status.busy": "2022-03-31T07:05:22.504841Z",
          "iopub.execute_input": "2022-03-31T07:05:22.505564Z",
          "iopub.status.idle": "2022-03-31T07:05:22.512803Z",
          "shell.execute_reply.started": "2022-03-31T07:05:22.505522Z",
          "shell.execute_reply": "2022-03-31T07:05:22.512046Z"
        },
        "trusted": true
      },
      "execution_count": null,
      "outputs": []
    },
    {
      "cell_type": "markdown",
      "source": [
        "#Function Helper returns the required model"
      ],
      "metadata": {
        "id": "c2rLMH5M2HdN"
      }
    },
    {
      "cell_type": "code",
      "source": [
        "def Helper(model , H , W , D):\n",
        "    if model == \"inception_v3\":\n",
        "        return InceptionV3(input_shape = (H , W , D), weights = \"imagenet\", include_top = False)\n",
        "    elif model == \"inception_resnet_v2\":\n",
        "        return InceptionResNetV2(input_shape = (H , W , D), weights = \"imagenet\", include_top = False)\n",
        "    elif model == \"resnet_50\":\n",
        "        return ResNet50(input_shape = (H , W , D), weights = \"imagenet\", include_top = False)\n",
        "    elif model == \"xception\":\n",
        "        return Xception(input_shape = (H , W , D), weights = \"imagenet\", include_top = False)"
      ],
      "metadata": {
        "id": "-UR8ZBrq3V0r",
        "execution": {
          "iopub.status.busy": "2022-03-31T07:05:26.212203Z",
          "iopub.execute_input": "2022-03-31T07:05:26.212982Z",
          "iopub.status.idle": "2022-03-31T07:05:26.220207Z",
          "shell.execute_reply.started": "2022-03-31T07:05:26.212940Z",
          "shell.execute_reply": "2022-03-31T07:05:26.219479Z"
        },
        "trusted": true
      },
      "execution_count": null,
      "outputs": []
    },
    {
      "cell_type": "code",
      "source": [
        "from keras.models import Model\n",
        "from keras.layers import Dense , Flatten"
      ],
      "metadata": {
        "execution": {
          "iopub.status.busy": "2022-03-31T07:05:30.594935Z",
          "iopub.execute_input": "2022-03-31T07:05:30.595497Z",
          "iopub.status.idle": "2022-03-31T07:05:30.599508Z",
          "shell.execute_reply.started": "2022-03-31T07:05:30.595455Z",
          "shell.execute_reply": "2022-03-31T07:05:30.598767Z"
        },
        "trusted": true,
        "id": "OqYdApP6Op3K"
      },
      "execution_count": null,
      "outputs": []
    },
    {
      "cell_type": "code",
      "source": [
        "def train():\n",
        "    \n",
        "    #Initializing wandb\n",
        "    run = wandb.init()\n",
        "    config = wandb.config\n",
        "\n",
        "    #Setting the run Name\n",
        "    run.name = \"model_\" + str(config.model) + \"_set_conv_layers_\" + str(config.set_conv_layers)\n",
        "\n",
        "    #Getting the first last and second last convolution layers in the model\n",
        "    if(config.model == \"inception_v3\"):\n",
        "      l2_conv_layers = [12, 17]\n",
        "    elif(config.model == \"inception_resnet_v2\"):\n",
        "      l2_conv_layers = [2, 4]\n",
        "    elif(config.model == \"resnet_50\"):\n",
        "      l2_conv_layers = [4, 7]\n",
        "    elif(config.model == \"xception\"):\n",
        "      l2_conv_layers = [3, 6]\n",
        "\n",
        "    \n",
        "    #getting the required model\n",
        "    model = Helper(config.model , H , W , D)\n",
        "    \n",
        "    model.trainable = False\n",
        "    \n",
        "    flat1 = Flatten()(model.layers[-1].output)\n",
        "    class1 = Dense(config.num_neurons , activation = \"relu\")(flat1)\n",
        "    output = Dense(10 , activation = \"softmax\")(class1)\n",
        "    \n",
        "    \n",
        "    model = Model(inputs = model.inputs , outputs = output)\n",
        "    \n",
        "\n",
        "    if (config.set_conv_layers == \"none\"): #Traning none of the layers\n",
        "      print(\"\")\n",
        "    else:\n",
        "      if(config.set_conv_layers == \"all\"): #Traning all the layers\n",
        "        model.trainable = True \n",
        "      else:\n",
        "        for layer in model.layers[- l2_conv_layers[config.set_conv_layers - 1] : ]: #Training from first last or second last convolution layers\n",
        "          layer.trainable = True\n",
        "\n",
        "    #Compiling the model with Adam as the optimizer\n",
        "    model.compile(optimizer = Adam(1e-5),\n",
        "                        loss = 'categorical_crossentropy',\n",
        "                        metrics = ['accuracy']\n",
        "                        )\n",
        "    #fitting the model on train data\n",
        "    model.fit(train_data,\n",
        "                    steps_per_epoch = ceil((float) (train_data.n) / train_data.batch_size),\n",
        "                    epochs = 10,\n",
        "                    callbacks = [WandbCallback()],\n",
        "                    validation_data = val_data,\n",
        "                    validation_steps = ceil((float) (val_data.n) / val_data.batch_size)\n",
        "                    )\n",
        "      \n",
        "    run.finish()"
      ],
      "metadata": {
        "id": "rauDVoIj3tVs",
        "execution": {
          "iopub.status.busy": "2022-03-31T07:06:10.006787Z",
          "iopub.execute_input": "2022-03-31T07:06:10.007099Z",
          "iopub.status.idle": "2022-03-31T07:06:10.023793Z",
          "shell.execute_reply.started": "2022-03-31T07:06:10.007042Z",
          "shell.execute_reply": "2022-03-31T07:06:10.022941Z"
        },
        "trusted": true
      },
      "execution_count": null,
      "outputs": []
    },
    {
      "cell_type": "markdown",
      "source": [
        "#Setting the sweep id for the sweep"
      ],
      "metadata": {
        "id": "WPLrqnTc_u0z"
      }
    },
    {
      "cell_type": "code",
      "source": [
        "sweep_id = wandb.sweep(sweep_config_temp, entity=\"cs21m027_cs21m011\", project=\"DL_ASG_2_final_Part_B\")"
      ],
      "metadata": {
        "id": "zEHOMYov3taS",
        "execution": {
          "iopub.status.busy": "2022-03-31T07:06:30.888787Z",
          "iopub.execute_input": "2022-03-31T07:06:30.889506Z",
          "iopub.status.idle": "2022-03-31T07:06:32.152443Z",
          "shell.execute_reply.started": "2022-03-31T07:06:30.889452Z",
          "shell.execute_reply": "2022-03-31T07:06:32.151030Z"
        },
        "trusted": true
      },
      "execution_count": null,
      "outputs": []
    },
    {
      "cell_type": "code",
      "source": [
        "wandb.agent(sweep_id, train)"
      ],
      "metadata": {
        "id": "c6MJNR2s3tcn",
        "execution": {
          "iopub.status.busy": "2022-03-31T07:07:12.548974Z",
          "iopub.execute_input": "2022-03-31T07:07:12.549750Z"
        },
        "trusted": true
      },
      "execution_count": null,
      "outputs": []
    },
    {
      "cell_type": "code",
      "source": [
        ""
      ],
      "metadata": {
        "id": "C0K5z7ky3sYz"
      },
      "execution_count": null,
      "outputs": []
    },
    {
      "cell_type": "markdown",
      "source": [
        "#Paramaters"
      ],
      "metadata": {
        "id": "9EYFOJkQJEqb"
      }
    },
    {
      "cell_type": "code",
      "source": [
        "#\"values\": [\"inception_v3\", \"inception_resnet_v2\", \"resnet_50\", \"xception\"]\n",
        "#\"values\" : [\"all\" , \"none\" , 1 , 2]"
      ],
      "metadata": {
        "id": "6QdvsO2l3sbA"
      },
      "execution_count": null,
      "outputs": []
    },
    {
      "cell_type": "markdown",
      "source": [
        "#Checking the numbers of first last and second last layers of all models"
      ],
      "metadata": {
        "id": "Mma9pGoM-baD"
      }
    },
    {
      "cell_type": "code",
      "source": [
        "#inception_model = InceptionV3(input_shape = (100 , 100 , 3), weights = \"imagenet\", include_top = False)"
      ],
      "metadata": {
        "id": "_cxTjuLK0iuS"
      },
      "execution_count": null,
      "outputs": []
    },
    {
      "cell_type": "code",
      "source": [
        "# check the layers by name\n",
        "#for i,layer in enumerate(inception_model.layers):\n",
        "#    print(i,layer.name)"
      ],
      "metadata": {
        "id": "rwWJLSb11VGp"
      },
      "execution_count": null,
      "outputs": []
    },
    {
      "cell_type": "code",
      "source": [
        "##img = '/content/inaturalist_12K/train'"
      ],
      "metadata": {
        "id": "46pdOoJrrAMC"
      },
      "execution_count": null,
      "outputs": []
    },
    {
      "cell_type": "code",
      "source": [
        "#paths = train_data.filepaths"
      ],
      "metadata": {
        "id": "Un5QUdMTtkmD"
      },
      "execution_count": null,
      "outputs": []
    },
    {
      "cell_type": "code",
      "source": [
        "#import cv2"
      ],
      "metadata": {
        "id": "6iFSSZ5Itv0z"
      },
      "execution_count": null,
      "outputs": []
    },
    {
      "cell_type": "code",
      "source": [
        "'''for i in range(1000):\n",
        "  img = paths[i]\n",
        "  image = cv2.imread(img)\n",
        "  print(image.shape)'''"
      ],
      "metadata": {
        "id": "2ruqtZq6tmfH"
      },
      "execution_count": null,
      "outputs": []
    },
    {
      "cell_type": "code",
      "source": [
        "#image.shape"
      ],
      "metadata": {
        "id": "kvqOLDQjtu-U"
      },
      "execution_count": null,
      "outputs": []
    },
    {
      "cell_type": "code",
      "source": [
        ""
      ],
      "metadata": {
        "id": "UfQRRgvguGMJ"
      },
      "execution_count": null,
      "outputs": []
    }
  ]
}